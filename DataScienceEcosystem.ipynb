{
 "cells": [
  {
   "cell_type": "markdown",
   "id": "c68f7111-702a-4507-aa8e-1f35e1fda5ae",
   "metadata": {},
   "source": [
    "# Data Science Tools and Ecosystem"
   ]
  },
  {
   "cell_type": "markdown",
   "id": "daff5ee9-5656-4295-99b1-e5983ff8461d",
   "metadata": {},
   "source": [
    "## In this notebook, Data Science Tools and Ecosystem are summarized."
   ]
  },
  {
   "cell_type": "markdown",
   "id": "6eda6813-f57d-4f0d-af55-6adb7c772935",
   "metadata": {},
   "source": [
    "## Some of the popular languages that Data Scientists use are:\n",
    "1. Python\n",
    "2. R\n",
    "3. Julia"
   ]
  },
  {
   "cell_type": "markdown",
   "id": "eeb15642-59ee-423d-9969-9fa5f8dd3982",
   "metadata": {
    "tags": []
   },
   "source": [
    "## Some of the commonly used libraries used by Data Scientists include:\n",
    "1. Pandas\n",
    "2. Matplotlib\n",
    "3. Seaborn\n",
    "4. Scikit-learn"
   ]
  },
  {
   "cell_type": "markdown",
   "id": "68a92a74-4b83-4214-b1bb-121da4514bca",
   "metadata": {},
   "source": [
    "## \n",
    "| Data Science Tools       |\n",
    "|--------------------------|\n",
    "| Jupyter Notebook         |\n",
    "| RStudio                  |\n",
    "| VSCode with Python       |\n"
   ]
  },
  {
   "cell_type": "markdown",
   "id": "194fbab7-3bb6-46de-bca9-975d8f439095",
   "metadata": {},
   "source": [
    "### Below are a few examples of evaluating arithmetic expressions in Python"
   ]
  },
  {
   "cell_type": "code",
   "execution_count": 9,
   "id": "69ac17f9-440b-4198-9130-d3ec49c4c589",
   "metadata": {
    "tags": []
   },
   "outputs": [
    {
     "data": {
      "text/plain": [
       "17"
      ]
     },
     "execution_count": 9,
     "metadata": {},
     "output_type": "execute_result"
    }
   ],
   "source": [
    "# This a simple arithmetic expression to mutiply then add integers\n",
    "(3*4)+5"
   ]
  },
  {
   "cell_type": "code",
   "execution_count": 11,
   "id": "ff2f6361-c58f-4b37-8b7f-922b925aa1a1",
   "metadata": {
    "tags": []
   },
   "outputs": [
    {
     "data": {
      "text/plain": [
       "3.3333333333333335"
      ]
     },
     "execution_count": 11,
     "metadata": {},
     "output_type": "execute_result"
    }
   ],
   "source": [
    "#  This will convert 200 minutes to hours by diving by 60.\n",
    "200/60"
   ]
  },
  {
   "cell_type": "markdown",
   "id": "df3bd487-6c43-4866-bbe3-b0f6c1ad27e1",
   "metadata": {},
   "source": [
    "**Objectives:**\n",
    "- List popular languages for Data Science.\n",
    "- Explore common data science libraries.\n",
    "- Popular Data Science tools.\n",
    "- Evaluating arithmetic expressions."
   ]
  },
  {
   "cell_type": "markdown",
   "id": "fc15e988-b088-45ca-898b-57c4e7d37cd1",
   "metadata": {},
   "source": [
    "## Author\n",
    "Neval Fergana"
   ]
  },
  {
   "cell_type": "code",
   "execution_count": null,
   "id": "1ef0e4c3-dc11-40b1-a015-35801544d985",
   "metadata": {},
   "outputs": [],
   "source": []
  }
 ],
 "metadata": {
  "kernelspec": {
   "display_name": "Python",
   "language": "python",
   "name": "conda-env-python-py"
  },
  "language_info": {
   "codemirror_mode": {
    "name": "ipython",
    "version": 3
   },
   "file_extension": ".py",
   "mimetype": "text/x-python",
   "name": "python",
   "nbconvert_exporter": "python",
   "pygments_lexer": "ipython3",
   "version": "3.7.12"
  }
 },
 "nbformat": 4,
 "nbformat_minor": 5
}
